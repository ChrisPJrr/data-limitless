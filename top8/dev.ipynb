{
 "cells": [
  {
   "cell_type": "code",
   "execution_count": 89,
   "metadata": {},
   "outputs": [],
   "source": [
    "import requests\n",
    "from bs4 import BeautifulSoup\n",
    "import pandas as pd"
   ]
  },
  {
   "cell_type": "code",
   "execution_count": 90,
   "metadata": {},
   "outputs": [],
   "source": [
    "url_base = \"https://limitlesstcg.com/tournaments/jp?show=50\""
   ]
  },
  {
   "cell_type": "code",
   "execution_count": 91,
   "metadata": {},
   "outputs": [],
   "source": [
    "response = requests.get(url_base)\n",
    "soup = BeautifulSoup(response.content, \"html.parser\")"
   ]
  },
  {
   "cell_type": "code",
   "execution_count": 92,
   "metadata": {},
   "outputs": [
    {
     "data": {
      "text/plain": [
       "[<tr>\n",
       " <th class=\"sort\" data-sort=\"date\">Date</th>\n",
       " <th class=\"sort\" data-sort=\"city\">Prefecture</th>\n",
       " <th class=\"sort landscape-only\" data-sort=\"shop\">Shop</th>\n",
       " <th class=\"sort\" data-sort=\"winner\">Winner</th>\n",
       " </tr>,\n",
       " <tr data-city=\"Tōkyō\" data-date=\"2024-09-09\" data-shop=\"秋葉原チェルモ\" data-winner=\"raging-bolt ogerpon\">\n",
       " <td><a href=\"https://limitlesstcg.com/tournaments/jp/833\">09 Sep 24</a></td>\n",
       " <td><a href=\"https://limitlesstcg.com/tournaments/jp/833\">Tōkyō</a></td>\n",
       " <td class=\"landscape-only\"><a href=\"https://limitlesstcg.com/tournaments/jp/833\">秋葉原チェルモ</a></td>\n",
       " <td> <a href=\"https://limitlesstcg.com/decks/list/jp/12281\"><span><img alt=\"raging-bolt\" class=\"pokemon\" src=\"https://limitlesstcg.s3.us-east-2.amazonaws.com/pokemon/gen9/raging-bolt.png\"/><img alt=\"ogerpon\" class=\"pokemon\" src=\"https://limitlesstcg.s3.us-east-2.amazonaws.com/pokemon/gen9/ogerpon.png\"/></span></a> </td>\n",
       " </tr>,\n",
       " <tr data-city=\"Kyōto\" data-date=\"2024-09-09\" data-shop=\"GIRAFULL京都店\" data-winner=\"lugia cinccino\">\n",
       " <td><a href=\"https://limitlesstcg.com/tournaments/jp/832\">09 Sep 24</a></td>\n",
       " <td><a href=\"https://limitlesstcg.com/tournaments/jp/832\">Kyōto</a></td>\n",
       " <td class=\"landscape-only\"><a href=\"https://limitlesstcg.com/tournaments/jp/832\">GIRAFULL京都店</a></td>\n",
       " <td> <a href=\"https://limitlesstcg.com/decks/list/jp/12265\"><span><img alt=\"lugia\" class=\"pokemon\" src=\"https://limitlesstcg.s3.us-east-2.amazonaws.com/pokemon/gen9/lugia.png\"/><img alt=\"cinccino\" class=\"pokemon\" src=\"https://limitlesstcg.s3.us-east-2.amazonaws.com/pokemon/gen9/cinccino.png\"/></span></a> </td>\n",
       " </tr>,\n",
       " <tr data-city=\"Shiga\" data-date=\"2024-09-09\" data-shop=\"トレカショップVOW\" data-winner=\"dragapult pidgeot\">\n",
       " <td><a href=\"https://limitlesstcg.com/tournaments/jp/831\">09 Sep 24</a></td>\n",
       " <td><a href=\"https://limitlesstcg.com/tournaments/jp/831\">Shiga</a></td>\n",
       " <td class=\"landscape-only\"><a href=\"https://limitlesstcg.com/tournaments/jp/831\">トレカショップVOW</a></td>\n",
       " <td> <a href=\"https://limitlesstcg.com/decks/list/jp/11955\"><span><img alt=\"dragapult\" class=\"pokemon\" src=\"https://limitlesstcg.s3.us-east-2.amazonaws.com/pokemon/gen9/dragapult.png\"/><img alt=\"pidgeot\" class=\"pokemon\" src=\"https://limitlesstcg.s3.us-east-2.amazonaws.com/pokemon/gen9/pidgeot.png\"/></span></a> </td>\n",
       " </tr>,\n",
       " <tr data-city=\"Chiba\" data-date=\"2024-09-09\" data-shop=\"トーナメントセンターバトロコ　柏駅前\" data-winner=\"lugia archeops\">\n",
       " <td><a href=\"https://limitlesstcg.com/tournaments/jp/830\">09 Sep 24</a></td>\n",
       " <td><a href=\"https://limitlesstcg.com/tournaments/jp/830\">Chiba</a></td>\n",
       " <td class=\"landscape-only\"><a href=\"https://limitlesstcg.com/tournaments/jp/830\">トーナメントセンターバトロコ　柏駅前</a></td>\n",
       " <td> <a href=\"https://limitlesstcg.com/decks/list/jp/12235\"><span><img alt=\"lugia\" class=\"pokemon\" src=\"https://limitlesstcg.s3.us-east-2.amazonaws.com/pokemon/gen9/lugia.png\"/><img alt=\"archeops\" class=\"pokemon\" src=\"https://limitlesstcg.s3.us-east-2.amazonaws.com/pokemon/gen9/archeops.png\"/></span></a> </td>\n",
       " </tr>,\n",
       " <tr data-city=\"Tōkyō\" data-date=\"2024-09-09\" data-shop=\"TSUTAYA西友町田店\" data-winner=\"raging-bolt ogerpon\">\n",
       " <td><a href=\"https://limitlesstcg.com/tournaments/jp/829\">09 Sep 24</a></td>\n",
       " <td><a href=\"https://limitlesstcg.com/tournaments/jp/829\">Tōkyō</a></td>\n",
       " <td class=\"landscape-only\"><a href=\"https://limitlesstcg.com/tournaments/jp/829\">TSUTAYA西友町田店</a></td>\n",
       " <td> <a href=\"https://limitlesstcg.com/decks/list/jp/12222\"><span><img alt=\"raging-bolt\" class=\"pokemon\" src=\"https://limitlesstcg.s3.us-east-2.amazonaws.com/pokemon/gen9/raging-bolt.png\"/><img alt=\"ogerpon\" class=\"pokemon\" src=\"https://limitlesstcg.s3.us-east-2.amazonaws.com/pokemon/gen9/ogerpon.png\"/></span></a> </td>\n",
       " </tr>,\n",
       " <tr data-city=\"Tōkyō\" data-date=\"2024-09-08\" data-shop=\"カードショップリドル京急蒲田店\" data-winner=\"dragapult xatu\">\n",
       " <td><a href=\"https://limitlesstcg.com/tournaments/jp/828\">08 Sep 24</a></td>\n",
       " <td><a href=\"https://limitlesstcg.com/tournaments/jp/828\">Tōkyō</a></td>\n",
       " <td class=\"landscape-only\"><a href=\"https://limitlesstcg.com/tournaments/jp/828\">カードショップリドル京急蒲田店</a></td>\n",
       " <td> <a href=\"https://limitlesstcg.com/decks/list/jp/12207\"><span><img alt=\"dragapult\" class=\"pokemon\" src=\"https://limitlesstcg.s3.us-east-2.amazonaws.com/pokemon/gen9/dragapult.png\"/><img alt=\"xatu\" class=\"pokemon\" src=\"https://limitlesstcg.s3.us-east-2.amazonaws.com/pokemon/gen9/xatu.png\"/></span></a> </td>\n",
       " </tr>,\n",
       " <tr data-city=\"Ōsaka\" data-date=\"2024-09-08\" data-shop=\"フルコンプ　大阪日本橋店\" data-winner=\"dragapult pidgeot\">\n",
       " <td><a href=\"https://limitlesstcg.com/tournaments/jp/827\">08 Sep 24</a></td>\n",
       " <td><a href=\"https://limitlesstcg.com/tournaments/jp/827\">Ōsaka</a></td>\n",
       " <td class=\"landscape-only\"><a href=\"https://limitlesstcg.com/tournaments/jp/827\">フルコンプ　大阪日本橋店</a></td>\n",
       " <td> <a href=\"https://limitlesstcg.com/decks/list/jp/12192\"><span><img alt=\"dragapult\" class=\"pokemon\" src=\"https://limitlesstcg.s3.us-east-2.amazonaws.com/pokemon/gen9/dragapult.png\"/><img alt=\"pidgeot\" class=\"pokemon\" src=\"https://limitlesstcg.s3.us-east-2.amazonaws.com/pokemon/gen9/pidgeot.png\"/></span></a> </td>\n",
       " </tr>,\n",
       " <tr data-city=\"Kanagawa\" data-date=\"2024-09-08\" data-shop=\"トーナメントセンターバトロコ　藤沢駅北口\" data-winner=\"dragapult pidgeot\">\n",
       " <td><a href=\"https://limitlesstcg.com/tournaments/jp/826\">08 Sep 24</a></td>\n",
       " <td><a href=\"https://limitlesstcg.com/tournaments/jp/826\">Kanagawa</a></td>\n",
       " <td class=\"landscape-only\"><a href=\"https://limitlesstcg.com/tournaments/jp/826\">トーナメントセンターバトロコ　藤沢駅北口</a></td>\n",
       " <td> <a href=\"https://limitlesstcg.com/decks/list/jp/12176\"><span><img alt=\"dragapult\" class=\"pokemon\" src=\"https://limitlesstcg.s3.us-east-2.amazonaws.com/pokemon/gen9/dragapult.png\"/><img alt=\"pidgeot\" class=\"pokemon\" src=\"https://limitlesstcg.s3.us-east-2.amazonaws.com/pokemon/gen9/pidgeot.png\"/></span></a> </td>\n",
       " </tr>,\n",
       " <tr data-city=\"Saitama\" data-date=\"2024-09-08\" data-shop=\"トーナメントセンターバトロコ　川越駅前\" data-winner=\"lugia archeops\">\n",
       " <td><a href=\"https://limitlesstcg.com/tournaments/jp/825\">08 Sep 24</a></td>\n",
       " <td><a href=\"https://limitlesstcg.com/tournaments/jp/825\">Saitama</a></td>\n",
       " <td class=\"landscape-only\"><a href=\"https://limitlesstcg.com/tournaments/jp/825\">トーナメントセンターバトロコ　川越駅前</a></td>\n",
       " <td> <a href=\"https://limitlesstcg.com/decks/list/jp/12160\"><span><img alt=\"lugia\" class=\"pokemon\" src=\"https://limitlesstcg.s3.us-east-2.amazonaws.com/pokemon/gen9/lugia.png\"/><img alt=\"archeops\" class=\"pokemon\" src=\"https://limitlesstcg.s3.us-east-2.amazonaws.com/pokemon/gen9/archeops.png\"/></span></a> </td>\n",
       " </tr>,\n",
       " <tr data-city=\"Shizuoka\" data-date=\"2024-09-08\" data-shop=\"トレカステーション領家店\" data-winner=\"roaring-moon flutter-mane\">\n",
       " <td><a href=\"https://limitlesstcg.com/tournaments/jp/824\">08 Sep 24</a></td>\n",
       " <td><a href=\"https://limitlesstcg.com/tournaments/jp/824\">Shizuoka</a></td>\n",
       " <td class=\"landscape-only\"><a href=\"https://limitlesstcg.com/tournaments/jp/824\">トレカステーション領家店</a></td>\n",
       " <td> <a href=\"https://limitlesstcg.com/decks/list/jp/12144\"><span><img alt=\"roaring-moon\" class=\"pokemon\" src=\"https://limitlesstcg.s3.us-east-2.amazonaws.com/pokemon/gen9/roaring-moon.png\"/><img alt=\"flutter-mane\" class=\"pokemon\" src=\"https://limitlesstcg.s3.us-east-2.amazonaws.com/pokemon/gen9/flutter-mane.png\"/></span></a> </td>\n",
       " </tr>,\n",
       " <tr data-city=\"Hokkaido\" data-date=\"2024-09-08\" data-shop=\"フルコンプPLAYERS CENTER札幌駅前店\" data-winner=\"charizard pidgeot\">\n",
       " <td><a href=\"https://limitlesstcg.com/tournaments/jp/823\">08 Sep 24</a></td>\n",
       " <td><a href=\"https://limitlesstcg.com/tournaments/jp/823\">Hokkaido</a></td>\n",
       " <td class=\"landscape-only\"><a href=\"https://limitlesstcg.com/tournaments/jp/823\">フルコンプPLAYERS CENTER札幌駅前店</a></td>\n",
       " <td> <a href=\"https://limitlesstcg.com/decks/list/jp/12128\"><span><img alt=\"charizard\" class=\"pokemon\" src=\"https://limitlesstcg.s3.us-east-2.amazonaws.com/pokemon/gen9/charizard.png\"/><img alt=\"pidgeot\" class=\"pokemon\" src=\"https://limitlesstcg.s3.us-east-2.amazonaws.com/pokemon/gen9/pidgeot.png\"/></span></a> </td>\n",
       " </tr>,\n",
       " <tr data-city=\"Ibaraki\" data-date=\"2024-09-08\" data-shop=\"トーナメントセンターバトロコ　水戸駅前\" data-winner=\"ogerpon raging-bolt\">\n",
       " <td><a href=\"https://limitlesstcg.com/tournaments/jp/822\">08 Sep 24</a></td>\n",
       " <td><a href=\"https://limitlesstcg.com/tournaments/jp/822\">Ibaraki</a></td>\n",
       " <td class=\"landscape-only\"><a href=\"https://limitlesstcg.com/tournaments/jp/822\">トーナメントセンターバトロコ　水戸駅前</a></td>\n",
       " <td> <a href=\"https://limitlesstcg.com/decks/list/jp/12112\"><span><img alt=\"ogerpon\" class=\"pokemon\" src=\"https://limitlesstcg.s3.us-east-2.amazonaws.com/pokemon/gen9/ogerpon.png\"/><img alt=\"raging-bolt\" class=\"pokemon\" src=\"https://limitlesstcg.s3.us-east-2.amazonaws.com/pokemon/gen9/raging-bolt.png\"/></span></a> </td>\n",
       " </tr>,\n",
       " <tr data-city=\"Ōsaka\" data-date=\"2024-09-08\" data-shop=\"ドラゴンスター泉佐野店\" data-winner=\"dragapult pidgeot\">\n",
       " <td><a href=\"https://limitlesstcg.com/tournaments/jp/821\">08 Sep 24</a></td>\n",
       " <td><a href=\"https://limitlesstcg.com/tournaments/jp/821\">Ōsaka</a></td>\n",
       " <td class=\"landscape-only\"><a href=\"https://limitlesstcg.com/tournaments/jp/821\">ドラゴンスター泉佐野店</a></td>\n",
       " <td> <a href=\"https://limitlesstcg.com/decks/list/jp/12096\"><span><img alt=\"dragapult\" class=\"pokemon\" src=\"https://limitlesstcg.s3.us-east-2.amazonaws.com/pokemon/gen9/dragapult.png\"/><img alt=\"pidgeot\" class=\"pokemon\" src=\"https://limitlesstcg.s3.us-east-2.amazonaws.com/pokemon/gen9/pidgeot.png\"/></span></a> </td>\n",
       " </tr>,\n",
       " <tr data-city=\"Tōkyō\" data-date=\"2024-09-08\" data-shop=\"TSUTAYA西友町田店\" data-winner=\"roaring-moon\">\n",
       " <td><a href=\"https://limitlesstcg.com/tournaments/jp/820\">08 Sep 24</a></td>\n",
       " <td><a href=\"https://limitlesstcg.com/tournaments/jp/820\">Tōkyō</a></td>\n",
       " <td class=\"landscape-only\"><a href=\"https://limitlesstcg.com/tournaments/jp/820\">TSUTAYA西友町田店</a></td>\n",
       " <td> <a href=\"https://limitlesstcg.com/decks/list/jp/12080\"><span><img alt=\"roaring-moon\" class=\"pokemon\" src=\"https://limitlesstcg.s3.us-east-2.amazonaws.com/pokemon/gen9/roaring-moon.png\"/></span></a> </td>\n",
       " </tr>,\n",
       " <tr data-city=\"Kanagawa\" data-date=\"2024-09-08\" data-shop=\"BOOKOFFSUPERBAZAARノースポート・モール店\" data-winner=\"raging-bolt ogerpon\">\n",
       " <td><a href=\"https://limitlesstcg.com/tournaments/jp/819\">08 Sep 24</a></td>\n",
       " <td><a href=\"https://limitlesstcg.com/tournaments/jp/819\">Kanagawa</a></td>\n",
       " <td class=\"landscape-only\"><a href=\"https://limitlesstcg.com/tournaments/jp/819\">BOOKOFFSUPERBAZAARノースポート・モール店</a></td>\n",
       " <td> <a href=\"https://limitlesstcg.com/decks/list/jp/12065\"><span><img alt=\"raging-bolt\" class=\"pokemon\" src=\"https://limitlesstcg.s3.us-east-2.amazonaws.com/pokemon/gen9/raging-bolt.png\"/><img alt=\"ogerpon\" class=\"pokemon\" src=\"https://limitlesstcg.s3.us-east-2.amazonaws.com/pokemon/gen9/ogerpon.png\"/></span></a> </td>\n",
       " </tr>,\n",
       " <tr data-city=\"Aichi\" data-date=\"2024-09-08\" data-shop=\"BOOKOFF SUPER BAZAAR 248号西友岡崎店\" data-winner=\"charizard pidgeot\">\n",
       " <td><a href=\"https://limitlesstcg.com/tournaments/jp/818\">08 Sep 24</a></td>\n",
       " <td><a href=\"https://limitlesstcg.com/tournaments/jp/818\">Aichi</a></td>\n",
       " <td class=\"landscape-only\"><a href=\"https://limitlesstcg.com/tournaments/jp/818\">BOOKOFF SUPER BAZAAR 248号西友岡崎店</a></td>\n",
       " <td> <a href=\"https://limitlesstcg.com/decks/list/jp/12049\"><span><img alt=\"charizard\" class=\"pokemon\" src=\"https://limitlesstcg.s3.us-east-2.amazonaws.com/pokemon/gen9/charizard.png\"/><img alt=\"pidgeot\" class=\"pokemon\" src=\"https://limitlesstcg.s3.us-east-2.amazonaws.com/pokemon/gen9/pidgeot.png\"/></span></a> </td>\n",
       " </tr>,\n",
       " <tr data-city=\"Aichi\" data-date=\"2024-09-08\" data-shop=\"トレカプラザ５５大須アメ横店\" data-winner=\"charizard pidgeot\">\n",
       " <td><a href=\"https://limitlesstcg.com/tournaments/jp/817\">08 Sep 24</a></td>\n",
       " <td><a href=\"https://limitlesstcg.com/tournaments/jp/817\">Aichi</a></td>\n",
       " <td class=\"landscape-only\"><a href=\"https://limitlesstcg.com/tournaments/jp/817\">トレカプラザ５５大須アメ横店</a></td>\n",
       " <td> <a href=\"https://limitlesstcg.com/decks/list/jp/12033\"><span><img alt=\"charizard\" class=\"pokemon\" src=\"https://limitlesstcg.s3.us-east-2.amazonaws.com/pokemon/gen9/charizard.png\"/><img alt=\"pidgeot\" class=\"pokemon\" src=\"https://limitlesstcg.s3.us-east-2.amazonaws.com/pokemon/gen9/pidgeot.png\"/></span></a> </td>\n",
       " </tr>,\n",
       " <tr data-city=\"Niigata\" data-date=\"2024-09-08\" data-shop=\"トイニティ長岡E・PLAZA店\" data-winner=\"snorlax ogerpon-cornerstone\">\n",
       " <td><a href=\"https://limitlesstcg.com/tournaments/jp/816\">08 Sep 24</a></td>\n",
       " <td><a href=\"https://limitlesstcg.com/tournaments/jp/816\">Niigata</a></td>\n",
       " <td class=\"landscape-only\"><a href=\"https://limitlesstcg.com/tournaments/jp/816\">トイニティ長岡E・PLAZA店</a></td>\n",
       " <td> <a href=\"https://limitlesstcg.com/decks/list/jp/12017\"><span><img alt=\"snorlax\" class=\"pokemon\" src=\"https://limitlesstcg.s3.us-east-2.amazonaws.com/pokemon/gen9/snorlax.png\"/><img alt=\"ogerpon-cornerstone\" class=\"pokemon\" src=\"https://limitlesstcg.s3.us-east-2.amazonaws.com/pokemon/gen9/ogerpon-cornerstone.png\"/></span></a> </td>\n",
       " </tr>,\n",
       " <tr data-city=\"Kyōto\" data-date=\"2024-09-08\" data-shop=\"カードボックス　京都ファミリー\" data-winner=\"regidrago ogerpon\">\n",
       " <td><a href=\"https://limitlesstcg.com/tournaments/jp/815\">08 Sep 24</a></td>\n",
       " <td><a href=\"https://limitlesstcg.com/tournaments/jp/815\">Kyōto</a></td>\n",
       " <td class=\"landscape-only\"><a href=\"https://limitlesstcg.com/tournaments/jp/815\">カードボックス　京都ファミリー</a></td>\n",
       " <td> <a href=\"https://limitlesstcg.com/decks/list/jp/12001\"><span><img alt=\"regidrago\" class=\"pokemon\" src=\"https://limitlesstcg.s3.us-east-2.amazonaws.com/pokemon/gen9/regidrago.png\"/><img alt=\"ogerpon\" class=\"pokemon\" src=\"https://limitlesstcg.s3.us-east-2.amazonaws.com/pokemon/gen9/ogerpon.png\"/></span></a> </td>\n",
       " </tr>,\n",
       " <tr data-city=\"Ōsaka\" data-date=\"2024-09-08\" data-shop=\"ドラゴンスター日本橋3号店\" data-winner=\"raging-bolt ogerpon\">\n",
       " <td><a href=\"https://limitlesstcg.com/tournaments/jp/814\">08 Sep 24</a></td>\n",
       " <td><a href=\"https://limitlesstcg.com/tournaments/jp/814\">Ōsaka</a></td>\n",
       " <td class=\"landscape-only\"><a href=\"https://limitlesstcg.com/tournaments/jp/814\">ドラゴンスター日本橋3号店</a></td>\n",
       " <td> <a href=\"https://limitlesstcg.com/decks/list/jp/11986\"><span><img alt=\"raging-bolt\" class=\"pokemon\" src=\"https://limitlesstcg.s3.us-east-2.amazonaws.com/pokemon/gen9/raging-bolt.png\"/><img alt=\"ogerpon\" class=\"pokemon\" src=\"https://limitlesstcg.s3.us-east-2.amazonaws.com/pokemon/gen9/ogerpon.png\"/></span></a> </td>\n",
       " </tr>,\n",
       " <tr data-city=\"Nara\" data-date=\"2024-09-08\" data-shop=\"BOOKOFF奈良法華寺店\" data-winner=\"raging-bolt ogerpon\">\n",
       " <td><a href=\"https://limitlesstcg.com/tournaments/jp/813\">08 Sep 24</a></td>\n",
       " <td><a href=\"https://limitlesstcg.com/tournaments/jp/813\">Nara</a></td>\n",
       " <td class=\"landscape-only\"><a href=\"https://limitlesstcg.com/tournaments/jp/813\">BOOKOFF奈良法華寺店</a></td>\n",
       " <td> <a href=\"https://limitlesstcg.com/decks/list/jp/11971\"><span><img alt=\"raging-bolt\" class=\"pokemon\" src=\"https://limitlesstcg.s3.us-east-2.amazonaws.com/pokemon/gen9/raging-bolt.png\"/><img alt=\"ogerpon\" class=\"pokemon\" src=\"https://limitlesstcg.s3.us-east-2.amazonaws.com/pokemon/gen9/ogerpon.png\"/></span></a> </td>\n",
       " </tr>,\n",
       " <tr data-city=\"Okinawa\" data-date=\"2024-09-08\" data-shop=\"カードスタジアム小禄店\" data-winner=\"dragapult pidgeot\">\n",
       " <td><a href=\"https://limitlesstcg.com/tournaments/jp/812\">08 Sep 24</a></td>\n",
       " <td><a href=\"https://limitlesstcg.com/tournaments/jp/812\">Okinawa</a></td>\n",
       " <td class=\"landscape-only\"><a href=\"https://limitlesstcg.com/tournaments/jp/812\">カードスタジアム小禄店</a></td>\n",
       " <td> <a href=\"https://limitlesstcg.com/decks/list/jp/11955\"><span><img alt=\"dragapult\" class=\"pokemon\" src=\"https://limitlesstcg.s3.us-east-2.amazonaws.com/pokemon/gen9/dragapult.png\"/><img alt=\"pidgeot\" class=\"pokemon\" src=\"https://limitlesstcg.s3.us-east-2.amazonaws.com/pokemon/gen9/pidgeot.png\"/></span></a> </td>\n",
       " </tr>,\n",
       " <tr data-city=\"Miyazaki\" data-date=\"2024-09-08\" data-shop=\"カードショップ＠ほ～む。宮崎店\" data-winner=\"gardevoir munkidori\">\n",
       " <td><a href=\"https://limitlesstcg.com/tournaments/jp/811\">08 Sep 24</a></td>\n",
       " <td><a href=\"https://limitlesstcg.com/tournaments/jp/811\">Miyazaki</a></td>\n",
       " <td class=\"landscape-only\"><a href=\"https://limitlesstcg.com/tournaments/jp/811\">カードショップ＠ほ～む。宮崎店</a></td>\n",
       " <td> <a href=\"https://limitlesstcg.com/decks/list/jp/11939\"><span><img alt=\"gardevoir\" class=\"pokemon\" src=\"https://limitlesstcg.s3.us-east-2.amazonaws.com/pokemon/gen9/gardevoir.png\"/><img alt=\"munkidori\" class=\"pokemon\" src=\"https://limitlesstcg.s3.us-east-2.amazonaws.com/pokemon/gen9/munkidori.png\"/></span></a> </td>\n",
       " </tr>,\n",
       " <tr data-city=\"Fukuoka\" data-date=\"2024-09-08\" data-shop=\"オレタン福岡天神店\" data-winner=\"gardevoir munkidori\">\n",
       " <td><a href=\"https://limitlesstcg.com/tournaments/jp/810\">08 Sep 24</a></td>\n",
       " <td><a href=\"https://limitlesstcg.com/tournaments/jp/810\">Fukuoka</a></td>\n",
       " <td class=\"landscape-only\"><a href=\"https://limitlesstcg.com/tournaments/jp/810\">オレタン福岡天神店</a></td>\n",
       " <td> <a href=\"https://limitlesstcg.com/decks/list/jp/11924\"><span><img alt=\"gardevoir\" class=\"pokemon\" src=\"https://limitlesstcg.s3.us-east-2.amazonaws.com/pokemon/gen9/gardevoir.png\"/><img alt=\"munkidori\" class=\"pokemon\" src=\"https://limitlesstcg.s3.us-east-2.amazonaws.com/pokemon/gen9/munkidori.png\"/></span></a> </td>\n",
       " </tr>,\n",
       " <tr data-city=\"Hyōgo\" data-date=\"2024-09-08\" data-shop=\"TSUTAYA　JR尼崎駅前店\" data-winner=\"gardevoir munkidori\">\n",
       " <td><a href=\"https://limitlesstcg.com/tournaments/jp/809\">08 Sep 24</a></td>\n",
       " <td><a href=\"https://limitlesstcg.com/tournaments/jp/809\">Hyōgo</a></td>\n",
       " <td class=\"landscape-only\"><a href=\"https://limitlesstcg.com/tournaments/jp/809\">TSUTAYA　JR尼崎駅前店</a></td>\n",
       " <td> <a href=\"https://limitlesstcg.com/decks/list/jp/11908\"><span><img alt=\"gardevoir\" class=\"pokemon\" src=\"https://limitlesstcg.s3.us-east-2.amazonaws.com/pokemon/gen9/gardevoir.png\"/><img alt=\"munkidori\" class=\"pokemon\" src=\"https://limitlesstcg.s3.us-east-2.amazonaws.com/pokemon/gen9/munkidori.png\"/></span></a> </td>\n",
       " </tr>,\n",
       " <tr data-city=\"Saitama\" data-date=\"2024-09-07\" data-shop=\"竜星のPAO　大宮店\" data-winner=\"raging-bolt ogerpon\">\n",
       " <td><a href=\"https://limitlesstcg.com/tournaments/jp/808\">07 Sep 24</a></td>\n",
       " <td><a href=\"https://limitlesstcg.com/tournaments/jp/808\">Saitama</a></td>\n",
       " <td class=\"landscape-only\"><a href=\"https://limitlesstcg.com/tournaments/jp/808\">竜星のPAO　大宮店</a></td>\n",
       " <td> <a href=\"https://limitlesstcg.com/decks/list/jp/11892\"><span><img alt=\"raging-bolt\" class=\"pokemon\" src=\"https://limitlesstcg.s3.us-east-2.amazonaws.com/pokemon/gen9/raging-bolt.png\"/><img alt=\"ogerpon\" class=\"pokemon\" src=\"https://limitlesstcg.s3.us-east-2.amazonaws.com/pokemon/gen9/ogerpon.png\"/></span></a> </td>\n",
       " </tr>,\n",
       " <tr data-city=\"Kanagawa\" data-date=\"2024-09-07\" data-shop=\"チェルモサード\" data-winner=\"ogerpon raging-bolt\">\n",
       " <td><a href=\"https://limitlesstcg.com/tournaments/jp/807\">07 Sep 24</a></td>\n",
       " <td><a href=\"https://limitlesstcg.com/tournaments/jp/807\">Kanagawa</a></td>\n",
       " <td class=\"landscape-only\"><a href=\"https://limitlesstcg.com/tournaments/jp/807\">チェルモサード</a></td>\n",
       " <td> <a href=\"https://limitlesstcg.com/decks/list/jp/11876\"><span><img alt=\"ogerpon\" class=\"pokemon\" src=\"https://limitlesstcg.s3.us-east-2.amazonaws.com/pokemon/gen9/ogerpon.png\"/><img alt=\"raging-bolt\" class=\"pokemon\" src=\"https://limitlesstcg.s3.us-east-2.amazonaws.com/pokemon/gen9/raging-bolt.png\"/></span></a> </td>\n",
       " </tr>,\n",
       " <tr data-city=\"Tōkyō\" data-date=\"2024-09-07\" data-shop=\"トーナメントセンターバトロコ　高田馬場\" data-winner=\"raging-bolt ogerpon\">\n",
       " <td><a href=\"https://limitlesstcg.com/tournaments/jp/806\">07 Sep 24</a></td>\n",
       " <td><a href=\"https://limitlesstcg.com/tournaments/jp/806\">Tōkyō</a></td>\n",
       " <td class=\"landscape-only\"><a href=\"https://limitlesstcg.com/tournaments/jp/806\">トーナメントセンターバトロコ　高田馬場</a></td>\n",
       " <td> <a href=\"https://limitlesstcg.com/decks/list/jp/11861\"><span><img alt=\"raging-bolt\" class=\"pokemon\" src=\"https://limitlesstcg.s3.us-east-2.amazonaws.com/pokemon/gen9/raging-bolt.png\"/><img alt=\"ogerpon\" class=\"pokemon\" src=\"https://limitlesstcg.s3.us-east-2.amazonaws.com/pokemon/gen9/ogerpon.png\"/></span></a> </td>\n",
       " </tr>,\n",
       " <tr data-city=\"Chiba\" data-date=\"2024-09-07\" data-shop=\"トーナメントセンターバトロコ　新津田沼駅前\" data-winner=\"charizard pidgeot\">\n",
       " <td><a href=\"https://limitlesstcg.com/tournaments/jp/805\">07 Sep 24</a></td>\n",
       " <td><a href=\"https://limitlesstcg.com/tournaments/jp/805\">Chiba</a></td>\n",
       " <td class=\"landscape-only\"><a href=\"https://limitlesstcg.com/tournaments/jp/805\">トーナメントセンターバトロコ　新津田沼駅前</a></td>\n",
       " <td> <a href=\"https://limitlesstcg.com/decks/list/jp/11845\"><span><img alt=\"charizard\" class=\"pokemon\" src=\"https://limitlesstcg.s3.us-east-2.amazonaws.com/pokemon/gen9/charizard.png\"/><img alt=\"pidgeot\" class=\"pokemon\" src=\"https://limitlesstcg.s3.us-east-2.amazonaws.com/pokemon/gen9/pidgeot.png\"/></span></a> </td>\n",
       " </tr>,\n",
       " <tr data-city=\"Tōkyō\" data-date=\"2024-09-07\" data-shop=\"ブックオフ武蔵小金井\" data-winner=\"regidrago ogerpon\">\n",
       " <td><a href=\"https://limitlesstcg.com/tournaments/jp/804\">07 Sep 24</a></td>\n",
       " <td><a href=\"https://limitlesstcg.com/tournaments/jp/804\">Tōkyō</a></td>\n",
       " <td class=\"landscape-only\"><a href=\"https://limitlesstcg.com/tournaments/jp/804\">ブックオフ武蔵小金井</a></td>\n",
       " <td> <a href=\"https://limitlesstcg.com/decks/list/jp/11829\"><span><img alt=\"regidrago\" class=\"pokemon\" src=\"https://limitlesstcg.s3.us-east-2.amazonaws.com/pokemon/gen9/regidrago.png\"/><img alt=\"ogerpon\" class=\"pokemon\" src=\"https://limitlesstcg.s3.us-east-2.amazonaws.com/pokemon/gen9/ogerpon.png\"/></span></a> </td>\n",
       " </tr>,\n",
       " <tr data-city=\"Kanagawa\" data-date=\"2024-09-07\" data-shop=\"青馬堂本店\" data-winner=\"raging-bolt ogerpon\">\n",
       " <td><a href=\"https://limitlesstcg.com/tournaments/jp/803\">07 Sep 24</a></td>\n",
       " <td><a href=\"https://limitlesstcg.com/tournaments/jp/803\">Kanagawa</a></td>\n",
       " <td class=\"landscape-only\"><a href=\"https://limitlesstcg.com/tournaments/jp/803\">青馬堂本店</a></td>\n",
       " <td> <a href=\"https://limitlesstcg.com/decks/list/jp/11814\"><span><img alt=\"raging-bolt\" class=\"pokemon\" src=\"https://limitlesstcg.s3.us-east-2.amazonaws.com/pokemon/gen9/raging-bolt.png\"/><img alt=\"ogerpon\" class=\"pokemon\" src=\"https://limitlesstcg.s3.us-east-2.amazonaws.com/pokemon/gen9/ogerpon.png\"/></span></a> </td>\n",
       " </tr>,\n",
       " <tr data-city=\"Aichi\" data-date=\"2024-09-07\" data-shop=\"竜星の嵐　名古屋店\" data-winner=\"roaring-moon squawkabilly\">\n",
       " <td><a href=\"https://limitlesstcg.com/tournaments/jp/802\">07 Sep 24</a></td>\n",
       " <td><a href=\"https://limitlesstcg.com/tournaments/jp/802\">Aichi</a></td>\n",
       " <td class=\"landscape-only\"><a href=\"https://limitlesstcg.com/tournaments/jp/802\">竜星の嵐　名古屋店</a></td>\n",
       " <td> <a href=\"https://limitlesstcg.com/decks/list/jp/11798\"><span><img alt=\"roaring-moon\" class=\"pokemon\" src=\"https://limitlesstcg.s3.us-east-2.amazonaws.com/pokemon/gen9/roaring-moon.png\"/><img alt=\"squawkabilly\" class=\"pokemon\" src=\"https://limitlesstcg.s3.us-east-2.amazonaws.com/pokemon/gen9/squawkabilly.png\"/></span></a> </td>\n",
       " </tr>,\n",
       " <tr data-city=\"Saitama\" data-date=\"2024-09-07\" data-shop=\"トレカショップKCC\" data-winner=\"roaring-moon\">\n",
       " <td><a href=\"https://limitlesstcg.com/tournaments/jp/801\">07 Sep 24</a></td>\n",
       " <td><a href=\"https://limitlesstcg.com/tournaments/jp/801\">Saitama</a></td>\n",
       " <td class=\"landscape-only\"><a href=\"https://limitlesstcg.com/tournaments/jp/801\">トレカショップKCC</a></td>\n",
       " <td> <a href=\"https://limitlesstcg.com/decks/list/jp/11782\"><span><img alt=\"roaring-moon\" class=\"pokemon\" src=\"https://limitlesstcg.s3.us-east-2.amazonaws.com/pokemon/gen9/roaring-moon.png\"/></span></a> </td>\n",
       " </tr>,\n",
       " <tr data-city=\"Chiba\" data-date=\"2024-09-07\" data-shop=\"TSUTAYA　津田沼店トレカコーナー\" data-winner=\"ogerpon raging-bolt\">\n",
       " <td><a href=\"https://limitlesstcg.com/tournaments/jp/800\">07 Sep 24</a></td>\n",
       " <td><a href=\"https://limitlesstcg.com/tournaments/jp/800\">Chiba</a></td>\n",
       " <td class=\"landscape-only\"><a href=\"https://limitlesstcg.com/tournaments/jp/800\">TSUTAYA　津田沼店トレカコーナー</a></td>\n",
       " <td> <a href=\"https://limitlesstcg.com/decks/list/jp/11766\"><span><img alt=\"ogerpon\" class=\"pokemon\" src=\"https://limitlesstcg.s3.us-east-2.amazonaws.com/pokemon/gen9/ogerpon.png\"/><img alt=\"raging-bolt\" class=\"pokemon\" src=\"https://limitlesstcg.s3.us-east-2.amazonaws.com/pokemon/gen9/raging-bolt.png\"/></span></a> </td>\n",
       " </tr>,\n",
       " <tr data-city=\"Tōkyō\" data-date=\"2024-09-07\" data-shop=\"BOOKOFF SUPER BAZAAR 西友大森店\" data-winner=\"lugia cinccino\">\n",
       " <td><a href=\"https://limitlesstcg.com/tournaments/jp/799\">07 Sep 24</a></td>\n",
       " <td><a href=\"https://limitlesstcg.com/tournaments/jp/799\">Tōkyō</a></td>\n",
       " <td class=\"landscape-only\"><a href=\"https://limitlesstcg.com/tournaments/jp/799\">BOOKOFF SUPER BAZAAR 西友大森店</a></td>\n",
       " <td> <a href=\"https://limitlesstcg.com/decks/list/jp/11751\"><span><img alt=\"lugia\" class=\"pokemon\" src=\"https://limitlesstcg.s3.us-east-2.amazonaws.com/pokemon/gen9/lugia.png\"/><img alt=\"cinccino\" class=\"pokemon\" src=\"https://limitlesstcg.s3.us-east-2.amazonaws.com/pokemon/gen9/cinccino.png\"/></span></a> </td>\n",
       " </tr>,\n",
       " <tr data-city=\"Fukushima\" data-date=\"2024-09-07\" data-shop=\"Wonder GOO　いわき鹿島店\" data-winner=\"raging-bolt ogerpon\">\n",
       " <td><a href=\"https://limitlesstcg.com/tournaments/jp/798\">07 Sep 24</a></td>\n",
       " <td><a href=\"https://limitlesstcg.com/tournaments/jp/798\">Fukushima</a></td>\n",
       " <td class=\"landscape-only\"><a href=\"https://limitlesstcg.com/tournaments/jp/798\">Wonder GOO　いわき鹿島店</a></td>\n",
       " <td> <a href=\"https://limitlesstcg.com/decks/list/jp/11736\"><span><img alt=\"raging-bolt\" class=\"pokemon\" src=\"https://limitlesstcg.s3.us-east-2.amazonaws.com/pokemon/gen9/raging-bolt.png\"/><img alt=\"ogerpon\" class=\"pokemon\" src=\"https://limitlesstcg.s3.us-east-2.amazonaws.com/pokemon/gen9/ogerpon.png\"/></span></a> </td>\n",
       " </tr>,\n",
       " <tr data-city=\"Shiga\" data-date=\"2024-09-07\" data-shop=\"トレカショップVOW\" data-winner=\"raging-bolt ogerpon\">\n",
       " <td><a href=\"https://limitlesstcg.com/tournaments/jp/797\">07 Sep 24</a></td>\n",
       " <td><a href=\"https://limitlesstcg.com/tournaments/jp/797\">Shiga</a></td>\n",
       " <td class=\"landscape-only\"><a href=\"https://limitlesstcg.com/tournaments/jp/797\">トレカショップVOW</a></td>\n",
       " <td> <a href=\"https://limitlesstcg.com/decks/list/jp/11720\"><span><img alt=\"raging-bolt\" class=\"pokemon\" src=\"https://limitlesstcg.s3.us-east-2.amazonaws.com/pokemon/gen9/raging-bolt.png\"/><img alt=\"ogerpon\" class=\"pokemon\" src=\"https://limitlesstcg.s3.us-east-2.amazonaws.com/pokemon/gen9/ogerpon.png\"/></span></a> </td>\n",
       " </tr>,\n",
       " <tr data-city=\"Aichi\" data-date=\"2024-09-07\" data-shop=\"三洋堂書店　乙川店\" data-winner=\"baxcalibur chien-pao\">\n",
       " <td><a href=\"https://limitlesstcg.com/tournaments/jp/796\">07 Sep 24</a></td>\n",
       " <td><a href=\"https://limitlesstcg.com/tournaments/jp/796\">Aichi</a></td>\n",
       " <td class=\"landscape-only\"><a href=\"https://limitlesstcg.com/tournaments/jp/796\">三洋堂書店　乙川店</a></td>\n",
       " <td> <a href=\"https://limitlesstcg.com/decks/list/jp/11704\"><span><img alt=\"baxcalibur\" class=\"pokemon\" src=\"https://limitlesstcg.s3.us-east-2.amazonaws.com/pokemon/gen9/baxcalibur.png\"/><img alt=\"chien-pao\" class=\"pokemon\" src=\"https://limitlesstcg.s3.us-east-2.amazonaws.com/pokemon/gen9/chien-pao.png\"/></span></a> </td>\n",
       " </tr>,\n",
       " <tr data-city=\"Nara\" data-date=\"2024-09-07\" data-shop=\"BOOKOFF奈良法華寺店\" data-winner=\"raging-bolt ogerpon\">\n",
       " <td><a href=\"https://limitlesstcg.com/tournaments/jp/795\">07 Sep 24</a></td>\n",
       " <td><a href=\"https://limitlesstcg.com/tournaments/jp/795\">Nara</a></td>\n",
       " <td class=\"landscape-only\"><a href=\"https://limitlesstcg.com/tournaments/jp/795\">BOOKOFF奈良法華寺店</a></td>\n",
       " <td> <a href=\"https://limitlesstcg.com/decks/list/jp/11688\"><span><img alt=\"raging-bolt\" class=\"pokemon\" src=\"https://limitlesstcg.s3.us-east-2.amazonaws.com/pokemon/gen9/raging-bolt.png\"/><img alt=\"ogerpon\" class=\"pokemon\" src=\"https://limitlesstcg.s3.us-east-2.amazonaws.com/pokemon/gen9/ogerpon.png\"/></span></a> </td>\n",
       " </tr>,\n",
       " <tr data-city=\"Kagoshima\" data-date=\"2024-09-07\" data-shop=\"カードショップ＠ほ～む。鹿児島店\" data-winner=\"regidrago ogerpon\">\n",
       " <td><a href=\"https://limitlesstcg.com/tournaments/jp/794\">07 Sep 24</a></td>\n",
       " <td><a href=\"https://limitlesstcg.com/tournaments/jp/794\">Kagoshima</a></td>\n",
       " <td class=\"landscape-only\"><a href=\"https://limitlesstcg.com/tournaments/jp/794\">カードショップ＠ほ～む。鹿児島店</a></td>\n",
       " <td> <a href=\"https://limitlesstcg.com/decks/list/jp/11672\"><span><img alt=\"regidrago\" class=\"pokemon\" src=\"https://limitlesstcg.s3.us-east-2.amazonaws.com/pokemon/gen9/regidrago.png\"/><img alt=\"ogerpon\" class=\"pokemon\" src=\"https://limitlesstcg.s3.us-east-2.amazonaws.com/pokemon/gen9/ogerpon.png\"/></span></a> </td>\n",
       " </tr>,\n",
       " <tr data-city=\"Kagawa\" data-date=\"2024-09-07\" data-shop=\"ゲームアーク　丸亀店\" data-winner=\"ogerpon-cornerstone snorlax\">\n",
       " <td><a href=\"https://limitlesstcg.com/tournaments/jp/793\">07 Sep 24</a></td>\n",
       " <td><a href=\"https://limitlesstcg.com/tournaments/jp/793\">Kagawa</a></td>\n",
       " <td class=\"landscape-only\"><a href=\"https://limitlesstcg.com/tournaments/jp/793\">ゲームアーク　丸亀店</a></td>\n",
       " <td> <a href=\"https://limitlesstcg.com/decks/list/jp/11656\"><span><img alt=\"ogerpon-cornerstone\" class=\"pokemon\" src=\"https://limitlesstcg.s3.us-east-2.amazonaws.com/pokemon/gen9/ogerpon-cornerstone.png\"/><img alt=\"snorlax\" class=\"pokemon\" src=\"https://limitlesstcg.s3.us-east-2.amazonaws.com/pokemon/gen9/snorlax.png\"/></span></a> </td>\n",
       " </tr>,\n",
       " <tr data-city=\"Gifu\" data-date=\"2024-09-07\" data-shop=\"宝島　可児店\" data-winner=\"charizard pidgeot\">\n",
       " <td><a href=\"https://limitlesstcg.com/tournaments/jp/792\">07 Sep 24</a></td>\n",
       " <td><a href=\"https://limitlesstcg.com/tournaments/jp/792\">Gifu</a></td>\n",
       " <td class=\"landscape-only\"><a href=\"https://limitlesstcg.com/tournaments/jp/792\">宝島　可児店</a></td>\n",
       " <td> <a href=\"https://limitlesstcg.com/decks/list/jp/11640\"><span><img alt=\"charizard\" class=\"pokemon\" src=\"https://limitlesstcg.s3.us-east-2.amazonaws.com/pokemon/gen9/charizard.png\"/><img alt=\"pidgeot\" class=\"pokemon\" src=\"https://limitlesstcg.s3.us-east-2.amazonaws.com/pokemon/gen9/pidgeot.png\"/></span></a> </td>\n",
       " </tr>,\n",
       " <tr data-city=\"Tōkyō\" data-date=\"2024-05-06\" data-shop=\"BOOKOFF SUPER BAZAAR 西友大森店\" data-winner=\"dragapult pidgeot\">\n",
       " <td><a href=\"https://limitlesstcg.com/tournaments/jp/791\">06 May 24</a></td>\n",
       " <td><a href=\"https://limitlesstcg.com/tournaments/jp/791\">Tōkyō</a></td>\n",
       " <td class=\"landscape-only\"><a href=\"https://limitlesstcg.com/tournaments/jp/791\">BOOKOFF SUPER BAZAAR 西友大森店</a></td>\n",
       " <td> <a href=\"https://limitlesstcg.com/decks/list/jp/9513\"><span><img alt=\"dragapult\" class=\"pokemon\" src=\"https://limitlesstcg.s3.us-east-2.amazonaws.com/pokemon/gen9/dragapult.png\"/><img alt=\"pidgeot\" class=\"pokemon\" src=\"https://limitlesstcg.s3.us-east-2.amazonaws.com/pokemon/gen9/pidgeot.png\"/></span></a> </td>\n",
       " </tr>,\n",
       " <tr data-city=\"Kanagawa\" data-date=\"2024-05-06\" data-shop=\"トーナメントセンターバトロコ　横浜伊勢佐木町\" data-winner=\"dragapult xatu\">\n",
       " <td><a href=\"https://limitlesstcg.com/tournaments/jp/790\">06 May 24</a></td>\n",
       " <td><a href=\"https://limitlesstcg.com/tournaments/jp/790\">Kanagawa</a></td>\n",
       " <td class=\"landscape-only\"><a href=\"https://limitlesstcg.com/tournaments/jp/790\">トーナメントセンターバトロコ　横浜伊勢佐木町</a></td>\n",
       " <td> <a href=\"https://limitlesstcg.com/decks/list/jp/11610\"><span><img alt=\"dragapult\" class=\"pokemon\" src=\"https://limitlesstcg.s3.us-east-2.amazonaws.com/pokemon/gen9/dragapult.png\"/><img alt=\"xatu\" class=\"pokemon\" src=\"https://limitlesstcg.s3.us-east-2.amazonaws.com/pokemon/gen9/xatu.png\"/></span></a> </td>\n",
       " </tr>,\n",
       " <tr data-city=\"Chiba\" data-date=\"2024-05-06\" data-shop=\"トーナメントセンターバトロコ　新津田沼駅前\" data-winner=\"dragapult xatu\">\n",
       " <td><a href=\"https://limitlesstcg.com/tournaments/jp/789\">06 May 24</a></td>\n",
       " <td><a href=\"https://limitlesstcg.com/tournaments/jp/789\">Chiba</a></td>\n",
       " <td class=\"landscape-only\"><a href=\"https://limitlesstcg.com/tournaments/jp/789\">トーナメントセンターバトロコ　新津田沼駅前</a></td>\n",
       " <td> <a href=\"https://limitlesstcg.com/decks/list/jp/11595\"><span><img alt=\"dragapult\" class=\"pokemon\" src=\"https://limitlesstcg.s3.us-east-2.amazonaws.com/pokemon/gen9/dragapult.png\"/><img alt=\"xatu\" class=\"pokemon\" src=\"https://limitlesstcg.s3.us-east-2.amazonaws.com/pokemon/gen9/xatu.png\"/></span></a> </td>\n",
       " </tr>,\n",
       " <tr data-city=\"Tōkyō\" data-date=\"2024-05-06\" data-shop=\"秋葉原チェルモ\" data-winner=\"giratina-origin comfey\">\n",
       " <td><a href=\"https://limitlesstcg.com/tournaments/jp/788\">06 May 24</a></td>\n",
       " <td><a href=\"https://limitlesstcg.com/tournaments/jp/788\">Tōkyō</a></td>\n",
       " <td class=\"landscape-only\"><a href=\"https://limitlesstcg.com/tournaments/jp/788\">秋葉原チェルモ</a></td>\n",
       " <td> <a href=\"https://limitlesstcg.com/decks/list/jp/11579\"><span><img alt=\"giratina-origin\" class=\"pokemon\" src=\"https://limitlesstcg.s3.us-east-2.amazonaws.com/pokemon/gen9/giratina-origin.png\"/><img alt=\"comfey\" class=\"pokemon\" src=\"https://limitlesstcg.s3.us-east-2.amazonaws.com/pokemon/gen9/comfey.png\"/></span></a> </td>\n",
       " </tr>,\n",
       " <tr data-city=\"Tōkyō\" data-date=\"2024-05-06\" data-shop=\"フルコンプ　PLAYERS CENTER　八王子本店\" data-winner=\"giratina-origin comfey\">\n",
       " <td><a href=\"https://limitlesstcg.com/tournaments/jp/787\">06 May 24</a></td>\n",
       " <td><a href=\"https://limitlesstcg.com/tournaments/jp/787\">Tōkyō</a></td>\n",
       " <td class=\"landscape-only\"><a href=\"https://limitlesstcg.com/tournaments/jp/787\">フルコンプ　PLAYERS CENTER　八王子本店</a></td>\n",
       " <td> <a href=\"https://limitlesstcg.com/decks/list/jp/11563\"><span><img alt=\"giratina-origin\" class=\"pokemon\" src=\"https://limitlesstcg.s3.us-east-2.amazonaws.com/pokemon/gen9/giratina-origin.png\"/><img alt=\"comfey\" class=\"pokemon\" src=\"https://limitlesstcg.s3.us-east-2.amazonaws.com/pokemon/gen9/comfey.png\"/></span></a> </td>\n",
       " </tr>,\n",
       " <tr data-city=\"Tōkyō\" data-date=\"2024-05-06\" data-shop=\"ブックオフ武蔵小金井\" data-winner=\"dragapult\">\n",
       " <td><a href=\"https://limitlesstcg.com/tournaments/jp/786\">06 May 24</a></td>\n",
       " <td><a href=\"https://limitlesstcg.com/tournaments/jp/786\">Tōkyō</a></td>\n",
       " <td class=\"landscape-only\"><a href=\"https://limitlesstcg.com/tournaments/jp/786\">ブックオフ武蔵小金井</a></td>\n",
       " <td> <a href=\"https://limitlesstcg.com/decks/list/jp/11550\"><span><img alt=\"dragapult\" class=\"pokemon\" src=\"https://limitlesstcg.s3.us-east-2.amazonaws.com/pokemon/gen9/dragapult.png\"/></span></a> </td>\n",
       " </tr>,\n",
       " <tr data-city=\"Hiroshima\" data-date=\"2024-05-06\" data-shop=\"BOOKOFFSUPERBAZAAR54号広島八木店\" data-winner=\"gardevoir\">\n",
       " <td><a href=\"https://limitlesstcg.com/tournaments/jp/785\">06 May 24</a></td>\n",
       " <td><a href=\"https://limitlesstcg.com/tournaments/jp/785\">Hiroshima</a></td>\n",
       " <td class=\"landscape-only\"><a href=\"https://limitlesstcg.com/tournaments/jp/785\">BOOKOFFSUPERBAZAAR54号広島八木店</a></td>\n",
       " <td> <a href=\"https://limitlesstcg.com/decks/list/jp/11534\"><span><img alt=\"gardevoir\" class=\"pokemon\" src=\"https://limitlesstcg.s3.us-east-2.amazonaws.com/pokemon/gen9/gardevoir.png\"/></span></a> </td>\n",
       " </tr>,\n",
       " <tr data-city=\"Tōkyō\" data-date=\"2024-05-06\" data-shop=\"カードショップ竜星のPAO町田店\" data-winner=\"greninja froslass\">\n",
       " <td><a href=\"https://limitlesstcg.com/tournaments/jp/784\">06 May 24</a></td>\n",
       " <td><a href=\"https://limitlesstcg.com/tournaments/jp/784\">Tōkyō</a></td>\n",
       " <td class=\"landscape-only\"><a href=\"https://limitlesstcg.com/tournaments/jp/784\">カードショップ竜星のPAO町田店</a></td>\n",
       " <td> <a href=\"https://limitlesstcg.com/decks/list/jp/11521\"><span><img alt=\"greninja\" class=\"pokemon\" src=\"https://limitlesstcg.s3.us-east-2.amazonaws.com/pokemon/gen9/greninja.png\"/><img alt=\"froslass\" class=\"pokemon\" src=\"https://limitlesstcg.s3.us-east-2.amazonaws.com/pokemon/gen9/froslass.png\"/></span></a> </td>\n",
       " </tr>]"
      ]
     },
     "execution_count": 92,
     "metadata": {},
     "output_type": "execute_result"
    }
   ],
   "source": [
    "table_rows = soup.select(\"tr\")\n",
    "\n",
    "table_rows"
   ]
  },
  {
   "cell_type": "code",
   "execution_count": 93,
   "metadata": {},
   "outputs": [],
   "source": [
    "for row in range(1, len(table_rows)):\n",
    "    tournament_url = table_rows[row].select(\"a\")[0].get('href')"
   ]
  },
  {
   "cell_type": "code",
   "execution_count": 94,
   "metadata": {},
   "outputs": [
    {
     "data": {
      "text/plain": [
       "'https://limitlesstcg.com/tournaments/jp/833'"
      ]
     },
     "execution_count": 94,
     "metadata": {},
     "output_type": "execute_result"
    }
   ],
   "source": [
    "table_rows[1].select(\"a\")[0].get('href')"
   ]
  },
  {
   "cell_type": "code",
   "execution_count": 115,
   "metadata": {},
   "outputs": [
    {
     "data": {
      "text/plain": [
       "'2024-09-09'"
      ]
     },
     "execution_count": 115,
     "metadata": {},
     "output_type": "execute_result"
    }
   ],
   "source": [
    "table_rows[1].get('data-date')"
   ]
  },
  {
   "cell_type": "code",
   "execution_count": 114,
   "metadata": {},
   "outputs": [
    {
     "data": {
      "text/plain": [
       "False"
      ]
     },
     "execution_count": 114,
     "metadata": {},
     "output_type": "execute_result"
    }
   ],
   "source": [
    "table_rows[1].get('data-date') > '2024-09-11'"
   ]
  },
  {
   "cell_type": "code",
   "execution_count": 96,
   "metadata": {},
   "outputs": [
    {
     "data": {
      "text/plain": [
       "'https://limitlesstcg.com/tournaments/jp/832'"
      ]
     },
     "execution_count": 96,
     "metadata": {},
     "output_type": "execute_result"
    }
   ],
   "source": [
    "table_rows[2].select(\"a\")[0].get('href')"
   ]
  },
  {
   "cell_type": "code",
   "execution_count": 97,
   "metadata": {},
   "outputs": [],
   "source": [
    "tournament_url = table_rows[1].select(\"a\")[0].get('href')"
   ]
  },
  {
   "cell_type": "code",
   "execution_count": 98,
   "metadata": {},
   "outputs": [],
   "source": [
    "tournament_code = tournament_url.split('/')[-1]"
   ]
  },
  {
   "cell_type": "code",
   "execution_count": 99,
   "metadata": {},
   "outputs": [],
   "source": [
    "response = requests.get(tournament_url)\n",
    "soup_aux = BeautifulSoup(response.content, \"html.parser\")"
   ]
  },
  {
   "cell_type": "code",
   "execution_count": 100,
   "metadata": {},
   "outputs": [
    {
     "data": {
      "text/plain": [
       "[<tr>\n",
       " <th>#</th>\n",
       " <th>Player</th>\n",
       " <th>Deck</th>\n",
       " <th>List</th>\n",
       " </tr>,\n",
       " <tr>\n",
       " <td>1</td>\n",
       " <td><a href=\"/players/jp/0077005010\">シノ</a></td>\n",
       " <td> <a href=\"https://limitlesstcg.com/decks/list/jp/12281\"><span><img alt=\"raging-bolt\" class=\"pokemon\" src=\"https://limitlesstcg.s3.us-east-2.amazonaws.com/pokemon/gen9/raging-bolt.png\"/><img alt=\"ogerpon\" class=\"pokemon\" src=\"https://limitlesstcg.s3.us-east-2.amazonaws.com/pokemon/gen9/ogerpon.png\"/></span></a> </td>\n",
       " <td> <a href=\"https://limitlesstcg.com/decks/list/jp/12281\"><i class=\"far fa-lg fa-list-alt\"></i></a> </td>\n",
       " </tr>,\n",
       " <tr>\n",
       " <td>2</td>\n",
       " <td><a href=\"/players/jp/0052427482\">ぐーちゃん</a></td>\n",
       " <td> <a href=\"https://limitlesstcg.com/decks/list/jp/12282\"><span><img alt=\"snorlax\" class=\"pokemon\" src=\"https://limitlesstcg.s3.us-east-2.amazonaws.com/pokemon/gen9/snorlax.png\"/><img alt=\"rotom\" class=\"pokemon\" src=\"https://limitlesstcg.s3.us-east-2.amazonaws.com/pokemon/gen9/rotom.png\"/></span></a> </td>\n",
       " <td> <a href=\"https://limitlesstcg.com/decks/list/jp/12282\"><i class=\"far fa-lg fa-list-alt\"></i></a> </td>\n",
       " </tr>,\n",
       " <tr>\n",
       " <td>3</td>\n",
       " <td><a href=\"/players/jp/0000024017\">CHANG</a></td>\n",
       " <td> <a href=\"https://limitlesstcg.com/decks/list/jp/12283\"><span><img alt=\"greninja\" class=\"pokemon\" src=\"https://limitlesstcg.s3.us-east-2.amazonaws.com/pokemon/gen9/greninja.png\"/><img alt=\"charizard\" class=\"pokemon\" src=\"https://limitlesstcg.s3.us-east-2.amazonaws.com/pokemon/gen9/charizard.png\"/></span></a> </td>\n",
       " <td> <a href=\"https://limitlesstcg.com/decks/list/jp/12283\"><i class=\"far fa-lg fa-list-alt\"></i></a> </td>\n",
       " </tr>,\n",
       " <tr>\n",
       " <td>4</td>\n",
       " <td><a href=\"/players/jp/0073456500\">あんじ</a></td>\n",
       " <td> <a href=\"https://limitlesstcg.com/decks/list/jp/12284\"><span><img alt=\"dragapult\" class=\"pokemon\" src=\"https://limitlesstcg.s3.us-east-2.amazonaws.com/pokemon/gen9/dragapult.png\"/><img alt=\"dusknoir\" class=\"pokemon\" src=\"https://limitlesstcg.s3.us-east-2.amazonaws.com/pokemon/gen9/dusknoir.png\"/></span></a> </td>\n",
       " <td> <a href=\"https://limitlesstcg.com/decks/list/jp/12284\"><i class=\"far fa-lg fa-list-alt\"></i></a> </td>\n",
       " </tr>,\n",
       " <tr>\n",
       " <td>5</td>\n",
       " <td><a href=\"/players/jp/0002892988\">MAX</a></td>\n",
       " <td> <a href=\"https://limitlesstcg.com/decks/list/jp/12285\"><span><img alt=\"charizard\" class=\"pokemon\" src=\"https://limitlesstcg.s3.us-east-2.amazonaws.com/pokemon/gen9/charizard.png\"/><img alt=\"pidgeot\" class=\"pokemon\" src=\"https://limitlesstcg.s3.us-east-2.amazonaws.com/pokemon/gen9/pidgeot.png\"/></span></a> </td>\n",
       " <td> <a href=\"https://limitlesstcg.com/decks/list/jp/12285\"><i class=\"far fa-lg fa-list-alt\"></i></a> </td>\n",
       " </tr>,\n",
       " <tr>\n",
       " <td>6</td>\n",
       " <td><a href=\"/players/jp/0071589134\">なお</a></td>\n",
       " <td> <a href=\"https://limitlesstcg.com/decks/list/jp/12286\"><span><img alt=\"raging-bolt\" class=\"pokemon\" src=\"https://limitlesstcg.s3.us-east-2.amazonaws.com/pokemon/gen9/raging-bolt.png\"/><img alt=\"ogerpon\" class=\"pokemon\" src=\"https://limitlesstcg.s3.us-east-2.amazonaws.com/pokemon/gen9/ogerpon.png\"/></span></a> </td>\n",
       " <td> <a href=\"https://limitlesstcg.com/decks/list/jp/12286\"><i class=\"far fa-lg fa-list-alt\"></i></a> </td>\n",
       " </tr>,\n",
       " <tr>\n",
       " <td>7</td>\n",
       " <td><a href=\"/players/jp/0070991747\">Kuwagatas</a></td>\n",
       " <td> <a href=\"https://limitlesstcg.com/decks/list/jp/12195\"><span><img alt=\"gardevoir\" class=\"pokemon\" src=\"https://limitlesstcg.s3.us-east-2.amazonaws.com/pokemon/gen9/gardevoir.png\"/><img alt=\"munkidori\" class=\"pokemon\" src=\"https://limitlesstcg.s3.us-east-2.amazonaws.com/pokemon/gen9/munkidori.png\"/></span></a> </td>\n",
       " <td> <a href=\"https://limitlesstcg.com/decks/list/jp/12195\"><i class=\"far fa-lg fa-list-alt\"></i></a> </td>\n",
       " </tr>,\n",
       " <tr>\n",
       " <td>8</td>\n",
       " <td><a href=\"/players/jp/0072594850\">セイント太朗</a></td>\n",
       " <td> <a href=\"https://limitlesstcg.com/decks/list/jp/12287\"><span><img alt=\"lugia\" class=\"pokemon\" src=\"https://limitlesstcg.s3.us-east-2.amazonaws.com/pokemon/gen9/lugia.png\"/><img alt=\"cinccino\" class=\"pokemon\" src=\"https://limitlesstcg.s3.us-east-2.amazonaws.com/pokemon/gen9/cinccino.png\"/></span></a> </td>\n",
       " <td> <a href=\"https://limitlesstcg.com/decks/list/jp/12287\"><i class=\"far fa-lg fa-list-alt\"></i></a> </td>\n",
       " </tr>,\n",
       " <tr>\n",
       " <td>9</td>\n",
       " <td><a href=\"/players/jp/0057082608\">ナントワンダラー</a></td>\n",
       " <td> <a href=\"https://limitlesstcg.com/decks/list/jp/12288\"><span><img alt=\"roaring-moon\" class=\"pokemon\" src=\"https://limitlesstcg.s3.us-east-2.amazonaws.com/pokemon/gen9/roaring-moon.png\"/><img alt=\"flutter-mane\" class=\"pokemon\" src=\"https://limitlesstcg.s3.us-east-2.amazonaws.com/pokemon/gen9/flutter-mane.png\"/></span></a> </td>\n",
       " <td> <a href=\"https://limitlesstcg.com/decks/list/jp/12288\"><i class=\"far fa-lg fa-list-alt\"></i></a> </td>\n",
       " </tr>,\n",
       " <tr>\n",
       " <td>10</td>\n",
       " <td><a href=\"/players/jp/0006591900\">カーキ</a></td>\n",
       " <td> <a href=\"https://limitlesstcg.com/decks/list/jp/12289\"><span><img alt=\"arceus\" class=\"pokemon\" src=\"https://limitlesstcg.s3.us-east-2.amazonaws.com/pokemon/gen9/arceus.png\"/><img alt=\"giratina-origin\" class=\"pokemon\" src=\"https://limitlesstcg.s3.us-east-2.amazonaws.com/pokemon/gen9/giratina-origin.png\"/></span></a> </td>\n",
       " <td> <a href=\"https://limitlesstcg.com/decks/list/jp/12289\"><i class=\"far fa-lg fa-list-alt\"></i></a> </td>\n",
       " </tr>,\n",
       " <tr>\n",
       " <td>11</td>\n",
       " <td><a href=\"/players/jp/0021185669\">みずごろん</a></td>\n",
       " <td> <a href=\"https://limitlesstcg.com/decks/list/jp/12290\"><span><img alt=\"lugia\" class=\"pokemon\" src=\"https://limitlesstcg.s3.us-east-2.amazonaws.com/pokemon/gen9/lugia.png\"/><img alt=\"archeops\" class=\"pokemon\" src=\"https://limitlesstcg.s3.us-east-2.amazonaws.com/pokemon/gen9/archeops.png\"/></span></a> </td>\n",
       " <td> <a href=\"https://limitlesstcg.com/decks/list/jp/12290\"><i class=\"far fa-lg fa-list-alt\"></i></a> </td>\n",
       " </tr>,\n",
       " <tr>\n",
       " <td>12</td>\n",
       " <td><a href=\"/players/jp/0030046126\">ぷりぷり</a></td>\n",
       " <td> <a href=\"https://limitlesstcg.com/decks/list/jp/12291\"><span><img alt=\"gardevoir\" class=\"pokemon\" src=\"https://limitlesstcg.s3.us-east-2.amazonaws.com/pokemon/gen9/gardevoir.png\"/><img alt=\"munkidori\" class=\"pokemon\" src=\"https://limitlesstcg.s3.us-east-2.amazonaws.com/pokemon/gen9/munkidori.png\"/></span></a> </td>\n",
       " <td> <a href=\"https://limitlesstcg.com/decks/list/jp/12291\"><i class=\"far fa-lg fa-list-alt\"></i></a> </td>\n",
       " </tr>,\n",
       " <tr>\n",
       " <td>13</td>\n",
       " <td><a href=\"/players/jp/0028527431\">たつぽん</a></td>\n",
       " <td> <a href=\"https://limitlesstcg.com/decks/list/jp/11782\"><span><img alt=\"roaring-moon\" class=\"pokemon\" src=\"https://limitlesstcg.s3.us-east-2.amazonaws.com/pokemon/gen9/roaring-moon.png\"/></span></a> </td>\n",
       " <td> <a href=\"https://limitlesstcg.com/decks/list/jp/11782\"><i class=\"far fa-lg fa-list-alt\"></i></a> </td>\n",
       " </tr>,\n",
       " <tr>\n",
       " <td>14</td>\n",
       " <td><a href=\"/players/jp/0000667324\">AKA</a></td>\n",
       " <td> <a href=\"https://limitlesstcg.com/decks/list/jp/12292\"><span><img alt=\"charizard\" class=\"pokemon\" src=\"https://limitlesstcg.s3.us-east-2.amazonaws.com/pokemon/gen9/charizard.png\"/><img alt=\"pidgeot\" class=\"pokemon\" src=\"https://limitlesstcg.s3.us-east-2.amazonaws.com/pokemon/gen9/pidgeot.png\"/></span></a> </td>\n",
       " <td> <a href=\"https://limitlesstcg.com/decks/list/jp/12292\"><i class=\"far fa-lg fa-list-alt\"></i></a> </td>\n",
       " </tr>,\n",
       " <tr>\n",
       " <td>15</td>\n",
       " <td><a href=\"/players/jp/0076970953\">だいきち</a></td>\n",
       " <td> <a href=\"https://limitlesstcg.com/decks/list/jp/11804\"><span><img alt=\"roaring-moon\" class=\"pokemon\" src=\"https://limitlesstcg.s3.us-east-2.amazonaws.com/pokemon/gen9/roaring-moon.png\"/><img alt=\"pecharunt\" class=\"pokemon\" src=\"https://limitlesstcg.s3.us-east-2.amazonaws.com/pokemon/gen9/pecharunt.png\"/></span></a> </td>\n",
       " <td> <a href=\"https://limitlesstcg.com/decks/list/jp/11804\"><i class=\"far fa-lg fa-list-alt\"></i></a> </td>\n",
       " </tr>,\n",
       " <tr>\n",
       " <td>16</td>\n",
       " <td><a href=\"/players/jp/0034863396\">さとちき</a></td>\n",
       " <td> <a href=\"https://limitlesstcg.com/decks/list/jp/12293\"><span><img alt=\"dragapult\" class=\"pokemon\" src=\"https://limitlesstcg.s3.us-east-2.amazonaws.com/pokemon/gen9/dragapult.png\"/><img alt=\"comfey\" class=\"pokemon\" src=\"https://limitlesstcg.s3.us-east-2.amazonaws.com/pokemon/gen9/comfey.png\"/></span></a> </td>\n",
       " <td> <a href=\"https://limitlesstcg.com/decks/list/jp/12293\"><i class=\"far fa-lg fa-list-alt\"></i></a> </td>\n",
       " </tr>]"
      ]
     },
     "execution_count": 100,
     "metadata": {},
     "output_type": "execute_result"
    }
   ],
   "source": [
    "table_rows = soup_aux.select(\"tr\")\n",
    "\n",
    "table_rows"
   ]
  },
  {
   "cell_type": "code",
   "execution_count": 101,
   "metadata": {},
   "outputs": [],
   "source": [
    "deck = []\n",
    "deck.append(table_rows[1].select('a')[1].select('img')[0].get('alt') + ' ' + table_rows[1].select('a')[1].select('img')[1].get('alt'))"
   ]
  },
  {
   "cell_type": "code",
   "execution_count": 102,
   "metadata": {},
   "outputs": [
    {
     "data": {
      "text/plain": [
       "['raging-bolt ogerpon']"
      ]
     },
     "execution_count": 102,
     "metadata": {},
     "output_type": "execute_result"
    }
   ],
   "source": [
    "deck"
   ]
  },
  {
   "cell_type": "code",
   "execution_count": 103,
   "metadata": {},
   "outputs": [
    {
     "data": {
      "text/plain": [
       "[<a href=\"/players/jp/0077005010\">シノ</a>,\n",
       " <a href=\"https://limitlesstcg.com/decks/list/jp/12281\"><span><img alt=\"raging-bolt\" class=\"pokemon\" src=\"https://limitlesstcg.s3.us-east-2.amazonaws.com/pokemon/gen9/raging-bolt.png\"/><img alt=\"ogerpon\" class=\"pokemon\" src=\"https://limitlesstcg.s3.us-east-2.amazonaws.com/pokemon/gen9/ogerpon.png\"/></span></a>,\n",
       " <a href=\"https://limitlesstcg.com/decks/list/jp/12281\"><i class=\"far fa-lg fa-list-alt\"></i></a>]"
      ]
     },
     "execution_count": 103,
     "metadata": {},
     "output_type": "execute_result"
    }
   ],
   "source": [
    "table_rows[1].select('a')"
   ]
  },
  {
   "cell_type": "code",
   "execution_count": 104,
   "metadata": {},
   "outputs": [],
   "source": [
    "decks = []\n",
    "\n",
    "for row in range(1, len(table_rows)):\n",
    "    pokemon1 = ''\n",
    "    pokemon2 = ''\n",
    "    try:\n",
    "        pokemon1 = table_rows[row].select('a')[1].select('img')[0].get('alt')\n",
    "    except:\n",
    "        pokemon1 = ''\n",
    "    try:\n",
    "        pokemon2 = table_rows[row].select('a')[1].select('img')[1].get('alt')\n",
    "    except:\n",
    "        pokemon2 = ''\n",
    "    \n",
    "    deck = pokemon1 + ' ' + pokemon2\n",
    "    decks.append(deck)"
   ]
  },
  {
   "cell_type": "code",
   "execution_count": 105,
   "metadata": {},
   "outputs": [
    {
     "data": {
      "text/plain": [
       "['raging-bolt ogerpon',\n",
       " 'snorlax rotom',\n",
       " 'greninja charizard',\n",
       " 'dragapult dusknoir',\n",
       " 'charizard pidgeot',\n",
       " 'raging-bolt ogerpon',\n",
       " 'gardevoir munkidori',\n",
       " 'lugia cinccino',\n",
       " 'roaring-moon flutter-mane',\n",
       " 'arceus giratina-origin',\n",
       " 'lugia archeops',\n",
       " 'gardevoir munkidori',\n",
       " 'roaring-moon ',\n",
       " 'charizard pidgeot',\n",
       " 'roaring-moon pecharunt',\n",
       " 'dragapult comfey']"
      ]
     },
     "execution_count": 105,
     "metadata": {},
     "output_type": "execute_result"
    }
   ],
   "source": [
    "decks"
   ]
  },
  {
   "cell_type": "code",
   "execution_count": 106,
   "metadata": {},
   "outputs": [],
   "source": [
    "len(decks)\n",
    "range_list = list(range(1, len(decks) + 1))"
   ]
  },
  {
   "cell_type": "code",
   "execution_count": 107,
   "metadata": {},
   "outputs": [
    {
     "data": {
      "text/plain": [
       "[1, 2, 3, 4, 5, 6, 7, 8, 9, 10, 11, 12, 13, 14, 15, 16]"
      ]
     },
     "execution_count": 107,
     "metadata": {},
     "output_type": "execute_result"
    }
   ],
   "source": [
    "range_list"
   ]
  },
  {
   "cell_type": "code",
   "execution_count": 108,
   "metadata": {},
   "outputs": [],
   "source": [
    "df_tournament = pd.DataFrame(columns=['position', 'deck'])\n",
    "df_tournament['position'] = range_list\n",
    "df_tournament['deck'] = decks"
   ]
  },
  {
   "cell_type": "code",
   "execution_count": 75,
   "metadata": {},
   "outputs": [],
   "source": [
    "df_tournament.to_csv('./torneios/tournament_{id}.csv'.format(id=tournament_code))"
   ]
  },
  {
   "cell_type": "code",
   "execution_count": 109,
   "metadata": {},
   "outputs": [
    {
     "data": {
      "text/html": [
       "<div>\n",
       "<style scoped>\n",
       "    .dataframe tbody tr th:only-of-type {\n",
       "        vertical-align: middle;\n",
       "    }\n",
       "\n",
       "    .dataframe tbody tr th {\n",
       "        vertical-align: top;\n",
       "    }\n",
       "\n",
       "    .dataframe thead th {\n",
       "        text-align: right;\n",
       "    }\n",
       "</style>\n",
       "<table border=\"1\" class=\"dataframe\">\n",
       "  <thead>\n",
       "    <tr style=\"text-align: right;\">\n",
       "      <th></th>\n",
       "      <th>position</th>\n",
       "      <th>deck</th>\n",
       "    </tr>\n",
       "  </thead>\n",
       "  <tbody>\n",
       "    <tr>\n",
       "      <th>0</th>\n",
       "      <td>1</td>\n",
       "      <td>raging-bolt ogerpon</td>\n",
       "    </tr>\n",
       "    <tr>\n",
       "      <th>1</th>\n",
       "      <td>2</td>\n",
       "      <td>snorlax rotom</td>\n",
       "    </tr>\n",
       "    <tr>\n",
       "      <th>2</th>\n",
       "      <td>3</td>\n",
       "      <td>greninja charizard</td>\n",
       "    </tr>\n",
       "    <tr>\n",
       "      <th>3</th>\n",
       "      <td>4</td>\n",
       "      <td>dragapult dusknoir</td>\n",
       "    </tr>\n",
       "    <tr>\n",
       "      <th>4</th>\n",
       "      <td>5</td>\n",
       "      <td>charizard pidgeot</td>\n",
       "    </tr>\n",
       "    <tr>\n",
       "      <th>5</th>\n",
       "      <td>6</td>\n",
       "      <td>raging-bolt ogerpon</td>\n",
       "    </tr>\n",
       "    <tr>\n",
       "      <th>6</th>\n",
       "      <td>7</td>\n",
       "      <td>gardevoir munkidori</td>\n",
       "    </tr>\n",
       "    <tr>\n",
       "      <th>7</th>\n",
       "      <td>8</td>\n",
       "      <td>lugia cinccino</td>\n",
       "    </tr>\n",
       "    <tr>\n",
       "      <th>8</th>\n",
       "      <td>9</td>\n",
       "      <td>roaring-moon flutter-mane</td>\n",
       "    </tr>\n",
       "    <tr>\n",
       "      <th>9</th>\n",
       "      <td>10</td>\n",
       "      <td>arceus giratina-origin</td>\n",
       "    </tr>\n",
       "    <tr>\n",
       "      <th>10</th>\n",
       "      <td>11</td>\n",
       "      <td>lugia archeops</td>\n",
       "    </tr>\n",
       "    <tr>\n",
       "      <th>11</th>\n",
       "      <td>12</td>\n",
       "      <td>gardevoir munkidori</td>\n",
       "    </tr>\n",
       "    <tr>\n",
       "      <th>12</th>\n",
       "      <td>13</td>\n",
       "      <td>roaring-moon</td>\n",
       "    </tr>\n",
       "    <tr>\n",
       "      <th>13</th>\n",
       "      <td>14</td>\n",
       "      <td>charizard pidgeot</td>\n",
       "    </tr>\n",
       "    <tr>\n",
       "      <th>14</th>\n",
       "      <td>15</td>\n",
       "      <td>roaring-moon pecharunt</td>\n",
       "    </tr>\n",
       "    <tr>\n",
       "      <th>15</th>\n",
       "      <td>16</td>\n",
       "      <td>dragapult comfey</td>\n",
       "    </tr>\n",
       "  </tbody>\n",
       "</table>\n",
       "</div>"
      ],
      "text/plain": [
       "    position                       deck\n",
       "0          1        raging-bolt ogerpon\n",
       "1          2              snorlax rotom\n",
       "2          3         greninja charizard\n",
       "3          4         dragapult dusknoir\n",
       "4          5          charizard pidgeot\n",
       "5          6        raging-bolt ogerpon\n",
       "6          7        gardevoir munkidori\n",
       "7          8             lugia cinccino\n",
       "8          9  roaring-moon flutter-mane\n",
       "9         10     arceus giratina-origin\n",
       "10        11             lugia archeops\n",
       "11        12        gardevoir munkidori\n",
       "12        13              roaring-moon \n",
       "13        14          charizard pidgeot\n",
       "14        15     roaring-moon pecharunt\n",
       "15        16           dragapult comfey"
      ]
     },
     "execution_count": 109,
     "metadata": {},
     "output_type": "execute_result"
    }
   ],
   "source": [
    "df_tournament"
   ]
  },
  {
   "cell_type": "markdown",
   "metadata": {},
   "source": [
    "# ---------------------------------------------------------------------------------------------------------------------"
   ]
  },
  {
   "cell_type": "code",
   "execution_count": 118,
   "metadata": {},
   "outputs": [],
   "source": [
    "import requests\n",
    "from bs4 import BeautifulSoup\n",
    "import pandas as pd\n",
    "\n",
    "DATE_REFERENCE = '2024-09-01'\n",
    "\n",
    "url_base = \"https://limitlesstcg.com/tournaments/jp?show=50\"\n",
    "\n",
    "response = requests.get(url_base)\n",
    "soup = BeautifulSoup(response.content, \"html.parser\")\n",
    "\n",
    "table_rows = soup.select(\"tr\")\n",
    "\n",
    "for row in range(1, len(table_rows)):\n",
    "\n",
    "    tournament_date = table_rows[row].get('data-date')\n",
    "\n",
    "    if tournament_date >= DATE_REFERENCE:\n",
    "\n",
    "        tournament_url = table_rows[row].select(\"a\")[0].get('href')\n",
    "\n",
    "        tournament_code = tournament_url.split('/')[-1]\n",
    "\n",
    "        response_aux = requests.get(tournament_url)\n",
    "        soup_aux = BeautifulSoup(response_aux.content, \"html.parser\")\n",
    "\n",
    "        tournament_rows = soup_aux.select(\"tr\")\n",
    "\n",
    "        decks = []\n",
    "\n",
    "        for row in range(1, len(tournament_rows)):\n",
    "            pokemon1 = ''\n",
    "            pokemon2 = ''\n",
    "            try:\n",
    "                pokemon1 = tournament_rows[row].select('a')[1].select('img')[0].get('alt')\n",
    "            except:\n",
    "                pokemon1 = ''\n",
    "            try:\n",
    "                pokemon2 = tournament_rows[row].select('a')[1].select('img')[1].get('alt')\n",
    "            except:\n",
    "                pokemon2 = ''\n",
    "            \n",
    "            deck = pokemon1 + ' ' + pokemon2\n",
    "            decks.append(deck)\n",
    "\n",
    "        range_list = list(range(1, len(decks) + 1))\n",
    "\n",
    "        df_tournament = pd.DataFrame(columns=['position', 'deck'])\n",
    "        df_tournament['position'] = range_list\n",
    "        df_tournament['deck'] = decks\n",
    "\n",
    "        df_tournament.to_csv('./torneios/tournament_{id}.csv'.format(id=tournament_code))"
   ]
  },
  {
   "cell_type": "markdown",
   "metadata": {},
   "source": [
    "# ---------------------------------------------------------------------------------------------------------------------"
   ]
  },
  {
   "cell_type": "code",
   "execution_count": 124,
   "metadata": {},
   "outputs": [],
   "source": [
    "import pandas as pd\n",
    "import glob"
   ]
  },
  {
   "cell_type": "code",
   "execution_count": 125,
   "metadata": {},
   "outputs": [],
   "source": [
    "glued_data = pd.DataFrame()\n",
    "for file_name in glob.glob('./torneios/' + '*.csv'):\n",
    "    x = pd.read_csv(file_name, low_memory=False)\n",
    "    glued_data = pd.concat([glued_data,x],axis=0)"
   ]
  },
  {
   "cell_type": "code",
   "execution_count": 127,
   "metadata": {},
   "outputs": [],
   "source": [
    "glued_data.drop(columns=['Unnamed: 0'], inplace=True)"
   ]
  },
  {
   "cell_type": "code",
   "execution_count": 131,
   "metadata": {},
   "outputs": [
    {
     "data": {
      "text/html": [
       "<div>\n",
       "<style scoped>\n",
       "    .dataframe tbody tr th:only-of-type {\n",
       "        vertical-align: middle;\n",
       "    }\n",
       "\n",
       "    .dataframe tbody tr th {\n",
       "        vertical-align: top;\n",
       "    }\n",
       "\n",
       "    .dataframe thead th {\n",
       "        text-align: right;\n",
       "    }\n",
       "</style>\n",
       "<table border=\"1\" class=\"dataframe\">\n",
       "  <thead>\n",
       "    <tr style=\"text-align: right;\">\n",
       "      <th></th>\n",
       "      <th>position</th>\n",
       "      <th>deck</th>\n",
       "    </tr>\n",
       "  </thead>\n",
       "  <tbody>\n",
       "    <tr>\n",
       "      <th>0</th>\n",
       "      <td>1</td>\n",
       "      <td>charizard pidgeot</td>\n",
       "    </tr>\n",
       "    <tr>\n",
       "      <th>1</th>\n",
       "      <td>2</td>\n",
       "      <td>ogerpon raging-bolt</td>\n",
       "    </tr>\n",
       "    <tr>\n",
       "      <th>2</th>\n",
       "      <td>3</td>\n",
       "      <td>ceruledge</td>\n",
       "    </tr>\n",
       "    <tr>\n",
       "      <th>3</th>\n",
       "      <td>4</td>\n",
       "      <td>dragapult pidgeot</td>\n",
       "    </tr>\n",
       "    <tr>\n",
       "      <th>4</th>\n",
       "      <td>5</td>\n",
       "      <td>palkia-origin dusknoir</td>\n",
       "    </tr>\n",
       "    <tr>\n",
       "      <th>...</th>\n",
       "      <td>...</td>\n",
       "      <td>...</td>\n",
       "    </tr>\n",
       "    <tr>\n",
       "      <th>3</th>\n",
       "      <td>4</td>\n",
       "      <td>dragapult dusknoir</td>\n",
       "    </tr>\n",
       "    <tr>\n",
       "      <th>4</th>\n",
       "      <td>5</td>\n",
       "      <td>charizard pidgeot</td>\n",
       "    </tr>\n",
       "    <tr>\n",
       "      <th>5</th>\n",
       "      <td>6</td>\n",
       "      <td>raging-bolt ogerpon</td>\n",
       "    </tr>\n",
       "    <tr>\n",
       "      <th>6</th>\n",
       "      <td>7</td>\n",
       "      <td>gardevoir munkidori</td>\n",
       "    </tr>\n",
       "    <tr>\n",
       "      <th>7</th>\n",
       "      <td>8</td>\n",
       "      <td>lugia cinccino</td>\n",
       "    </tr>\n",
       "  </tbody>\n",
       "</table>\n",
       "<p>336 rows × 2 columns</p>\n",
       "</div>"
      ],
      "text/plain": [
       "    position                    deck\n",
       "0          1       charizard pidgeot\n",
       "1          2     ogerpon raging-bolt\n",
       "2          3              ceruledge \n",
       "3          4       dragapult pidgeot\n",
       "4          5  palkia-origin dusknoir\n",
       "..       ...                     ...\n",
       "3          4      dragapult dusknoir\n",
       "4          5       charizard pidgeot\n",
       "5          6     raging-bolt ogerpon\n",
       "6          7     gardevoir munkidori\n",
       "7          8          lugia cinccino\n",
       "\n",
       "[336 rows x 2 columns]"
      ]
     },
     "execution_count": 131,
     "metadata": {},
     "output_type": "execute_result"
    }
   ],
   "source": [
    "glued_data[glued_data['position'] <= 8]"
   ]
  },
  {
   "cell_type": "code",
   "execution_count": 133,
   "metadata": {},
   "outputs": [],
   "source": [
    "glued_data['deck'].replace('ogerpon raging-bolt', 'raging-bolt ogerpon', inplace=True)\n",
    "glued_data['deck'].replace('lugia cinccino', 'lugia archeops', inplace=True)\n",
    "glued_data['deck'].replace('ogerpon-cornerstone snorlax', 'snorlax ogerpon-cornerstone', inplace=True)\n",
    "glued_data['deck'].replace('roaring-moon squawkabilly', 'roaring-moon', inplace=True)"
   ]
  },
  {
   "cell_type": "code",
   "execution_count": 138,
   "metadata": {},
   "outputs": [
    {
     "data": {
      "text/plain": [
       "deck\n",
       "raging-bolt ogerpon      123\n",
       "charizard pidgeot         96\n",
       "dragapult pidgeot         65\n",
       "gardevoir munkidori       52\n",
       "lugia archeops            45\n",
       "                        ... \n",
       "chien-pao baxcalibur       1\n",
       "palkia-origin bibarel      1\n",
       "charizard arceus           1\n",
       "ceruledge rotom            1\n",
       "gholdengo dusknoir         1\n",
       "Length: 76, dtype: int64"
      ]
     },
     "execution_count": 138,
     "metadata": {},
     "output_type": "execute_result"
    }
   ],
   "source": [
    "glued_data.groupby('deck').size().sort_values(ascending=False)"
   ]
  },
  {
   "cell_type": "code",
   "execution_count": 139,
   "metadata": {},
   "outputs": [
    {
     "data": {
      "text/plain": [
       "deck\n",
       "raging-bolt ogerpon               57\n",
       "charizard pidgeot                 50\n",
       "dragapult pidgeot                 32\n",
       "gardevoir munkidori               29\n",
       "lugia archeops                    25\n",
       "regidrago ogerpon                 11\n",
       "snorlax ogerpon-cornerstone       10\n",
       "ceruledge squawkabilly             8\n",
       "dragapult xatu                     8\n",
       "palkia-origin dusknoir             7\n",
       "miraidon iron-hands                7\n",
       "roaring-moon pecharunt             7\n",
       "iron-thorns                        6\n",
       "ceruledge                          6\n",
       "roaring-moon                       6\n",
       "comfey sableye                     5\n",
       "dragapult comfey                   4\n",
       "palkia-origin noctowl              4\n",
       "roaring-moon flutter-mane          4\n",
       "dialga-origin metang               3\n",
       "snorlax rotom                      3\n",
       "arceus dusknoir                    3\n",
       "baxcalibur bibarel                 3\n",
       "giratina-origin comfey             3\n",
       "miraidon raikou                    2\n",
       "                                   2\n",
       "gholdengo palkia-origin            2\n",
       "dragapult dusknoir                 2\n",
       "blissey ogerpon-cornerstone        2\n",
       "dragapult charizard                2\n",
       "comfey                             2\n",
       "greninja pidgeot                   1\n",
       "charizard dusknoir                 1\n",
       "terapagos noctowl                  1\n",
       "banette froslass                   1\n",
       "baxcalibur chien-pao               1\n",
       "great-tusk                         1\n",
       "bouffalant ogerpon-cornerstone     1\n",
       "ceruledge armarouge                1\n",
       "roaring-moon                       1\n",
       "charizard arceus                   1\n",
       "pidgeot                            1\n",
       "froslass terapagos                 1\n",
       "palkia-origin ogerpon              1\n",
       "gouging-fire munkidori             1\n",
       "greninja baxcalibur                1\n",
       "palkia-origin bibarel              1\n",
       "greninja charizard                 1\n",
       "dudunsparce great-tusk             1\n",
       "metang dialga-origin               1\n",
       "froslass munkidori                 1\n",
       "venomoth froslass                  1\n",
       "dtype: int64"
      ]
     },
     "execution_count": 139,
     "metadata": {},
     "output_type": "execute_result"
    }
   ],
   "source": [
    "glued_data[glued_data['position'] <= 8].groupby('deck').size().sort_values(ascending=False)"
   ]
  },
  {
   "cell_type": "code",
   "execution_count": null,
   "metadata": {},
   "outputs": [],
   "source": []
  }
 ],
 "metadata": {
  "kernelspec": {
   "display_name": "Python 3",
   "language": "python",
   "name": "python3"
  },
  "language_info": {
   "codemirror_mode": {
    "name": "ipython",
    "version": 3
   },
   "file_extension": ".py",
   "mimetype": "text/x-python",
   "name": "python",
   "nbconvert_exporter": "python",
   "pygments_lexer": "ipython3",
   "version": "3.11.1"
  }
 },
 "nbformat": 4,
 "nbformat_minor": 2
}
